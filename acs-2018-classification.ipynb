{
 "cells": [
  {
   "cell_type": "code",
   "execution_count": 33,
   "metadata": {},
   "outputs": [],
   "source": [
    "import pandas as pd\n",
    "import numpy as np\n",
    "import matplotlib.pyplot as plt\n",
    "from sklearn.decomposition import PCA\n",
    "from sklearn import preprocessing\n",
    "from sklearn.preprocessing import StandardScaler\n",
    "from sklearn.linear_model import LogisticRegression\n",
    "from sklearn.model_selection import train_test_split\n",
    "from sklearn.metrics import mean_squared_error, r2_score, mean_absolute_error\n",
    "from sklearn.metrics import classification_report,confusion_matrix\n",
    "from sklearn.decomposition import PCA"
   ]
  },
  {
   "cell_type": "code",
   "execution_count": 4,
   "metadata": {},
   "outputs": [
    {
     "data": {
      "text/html": [
       "<div>\n",
       "<style scoped>\n",
       "    .dataframe tbody tr th:only-of-type {\n",
       "        vertical-align: middle;\n",
       "    }\n",
       "\n",
       "    .dataframe tbody tr th {\n",
       "        vertical-align: top;\n",
       "    }\n",
       "\n",
       "    .dataframe thead th {\n",
       "        text-align: right;\n",
       "    }\n",
       "</style>\n",
       "<table border=\"1\" class=\"dataframe\">\n",
       "  <thead>\n",
       "    <tr style=\"text-align: right;\">\n",
       "      <th></th>\n",
       "      <th>Estimate!!EMPLOYMENT STATUS!!Population 16 years and over</th>\n",
       "      <th>Estimate!!EMPLOYMENT STATUS!!Population 16 years and over!!In labor force</th>\n",
       "      <th>Estimate!!EMPLOYMENT STATUS!!Population 16 years and over!!In labor force!!Civilian labor force!!Unemployed</th>\n",
       "      <th>Estimate!!EMPLOYMENT STATUS!!Population 16 years and over!!In labor force!!Armed Forces</th>\n",
       "      <th>Estimate!!EMPLOYMENT STATUS!!Population 16 years and over!!Not in labor force</th>\n",
       "      <th>Estimate!!EMPLOYMENT STATUS!!Civilian labor force</th>\n",
       "      <th>Estimate!!EMPLOYMENT STATUS!!Females 16 years and over</th>\n",
       "      <th>Estimate!!EMPLOYMENT STATUS!!Females 16 years and over!!In labor force</th>\n",
       "      <th>Estimate!!EMPLOYMENT STATUS!!Females 16 years and over!!In labor force!!Civilian labor force</th>\n",
       "      <th>Estimate!!EMPLOYMENT STATUS!!Females 16 years and over!!In labor force!!Civilian labor force!!Employed</th>\n",
       "      <th>...</th>\n",
       "      <th>Estimate!!HEALTH INSURANCE COVERAGE!!Civilian noninstitutionalized population!!Civilian noninstitutionalized population 19 to 64 years!!In labor force!!Unemployed!!With health insurance coverage!!With private health insurance</th>\n",
       "      <th>Estimate!!HEALTH INSURANCE COVERAGE!!Civilian noninstitutionalized population!!Civilian noninstitutionalized population 19 to 64 years!!In labor force!!Unemployed!!With health insurance coverage!!With public coverage</th>\n",
       "      <th>Estimate!!HEALTH INSURANCE COVERAGE!!Civilian noninstitutionalized population!!Civilian noninstitutionalized population 19 to 64 years!!In labor force!!Unemployed!!No health insurance coverage</th>\n",
       "      <th>Estimate!!HEALTH INSURANCE COVERAGE!!Civilian noninstitutionalized population!!Civilian noninstitutionalized population 19 to 64 years!!Not in labor force</th>\n",
       "      <th>Estimate!!HEALTH INSURANCE COVERAGE!!Civilian noninstitutionalized population!!Civilian noninstitutionalized population 19 to 64 years!!Not in labor force!!With health insurance coverage</th>\n",
       "      <th>Estimate!!HEALTH INSURANCE COVERAGE!!Civilian noninstitutionalized population!!Civilian noninstitutionalized population 19 to 64 years!!Not in labor force!!With health insurance coverage!!With private health insurance</th>\n",
       "      <th>Estimate!!HEALTH INSURANCE COVERAGE!!Civilian noninstitutionalized population!!Civilian noninstitutionalized population 19 to 64 years!!Not in labor force!!With health insurance coverage!!With public coverage</th>\n",
       "      <th>Estimate!!HEALTH INSURANCE COVERAGE!!Civilian noninstitutionalized population!!Civilian noninstitutionalized population 19 to 64 years!!Not in labor force!!No health insurance coverage</th>\n",
       "      <th>Percent Estimate!!PERCENTAGE OF FAMILIES AND PEOPLE WHOSE INCOME IN THE PAST 12 MONTHS IS BELOW THE POVERTY LEVEL!!All families</th>\n",
       "      <th>Percent Estimate!!EMPLOYMENT STATUS!!Civilian labor force!!Unemployment Rate</th>\n",
       "    </tr>\n",
       "    <tr>\n",
       "      <th>id</th>\n",
       "      <th></th>\n",
       "      <th></th>\n",
       "      <th></th>\n",
       "      <th></th>\n",
       "      <th></th>\n",
       "      <th></th>\n",
       "      <th></th>\n",
       "      <th></th>\n",
       "      <th></th>\n",
       "      <th></th>\n",
       "      <th></th>\n",
       "      <th></th>\n",
       "      <th></th>\n",
       "      <th></th>\n",
       "      <th></th>\n",
       "      <th></th>\n",
       "      <th></th>\n",
       "      <th></th>\n",
       "      <th></th>\n",
       "      <th></th>\n",
       "      <th></th>\n",
       "    </tr>\n",
       "  </thead>\n",
       "  <tbody>\n",
       "    <tr>\n",
       "      <th>1400000US36001000100</th>\n",
       "      <td>1505.0</td>\n",
       "      <td>930.0</td>\n",
       "      <td>113.0</td>\n",
       "      <td>6.0</td>\n",
       "      <td>575.0</td>\n",
       "      <td>924.0</td>\n",
       "      <td>816.0</td>\n",
       "      <td>521.0</td>\n",
       "      <td>521.0</td>\n",
       "      <td>432.0</td>\n",
       "      <td>...</td>\n",
       "      <td>13.0</td>\n",
       "      <td>62.0</td>\n",
       "      <td>0.0</td>\n",
       "      <td>338.0</td>\n",
       "      <td>300.0</td>\n",
       "      <td>75.0</td>\n",
       "      <td>255.0</td>\n",
       "      <td>38.0</td>\n",
       "      <td>24.2</td>\n",
       "      <td>12.2</td>\n",
       "    </tr>\n",
       "    <tr>\n",
       "      <th>1400000US36001000200</th>\n",
       "      <td>3748.0</td>\n",
       "      <td>2519.0</td>\n",
       "      <td>242.0</td>\n",
       "      <td>0.0</td>\n",
       "      <td>1229.0</td>\n",
       "      <td>2519.0</td>\n",
       "      <td>2051.0</td>\n",
       "      <td>1549.0</td>\n",
       "      <td>1549.0</td>\n",
       "      <td>1421.0</td>\n",
       "      <td>...</td>\n",
       "      <td>104.0</td>\n",
       "      <td>81.0</td>\n",
       "      <td>54.0</td>\n",
       "      <td>900.0</td>\n",
       "      <td>658.0</td>\n",
       "      <td>88.0</td>\n",
       "      <td>587.0</td>\n",
       "      <td>242.0</td>\n",
       "      <td>34.3</td>\n",
       "      <td>9.6</td>\n",
       "    </tr>\n",
       "    <tr>\n",
       "      <th>1400000US36001000300</th>\n",
       "      <td>4816.0</td>\n",
       "      <td>2894.0</td>\n",
       "      <td>296.0</td>\n",
       "      <td>0.0</td>\n",
       "      <td>1922.0</td>\n",
       "      <td>2894.0</td>\n",
       "      <td>2536.0</td>\n",
       "      <td>1405.0</td>\n",
       "      <td>1405.0</td>\n",
       "      <td>1361.0</td>\n",
       "      <td>...</td>\n",
       "      <td>32.0</td>\n",
       "      <td>156.0</td>\n",
       "      <td>46.0</td>\n",
       "      <td>998.0</td>\n",
       "      <td>803.0</td>\n",
       "      <td>333.0</td>\n",
       "      <td>526.0</td>\n",
       "      <td>195.0</td>\n",
       "      <td>21.7</td>\n",
       "      <td>10.2</td>\n",
       "    </tr>\n",
       "    <tr>\n",
       "      <th>1400000US36001000401</th>\n",
       "      <td>2305.0</td>\n",
       "      <td>1000.0</td>\n",
       "      <td>50.0</td>\n",
       "      <td>0.0</td>\n",
       "      <td>1305.0</td>\n",
       "      <td>1000.0</td>\n",
       "      <td>1434.0</td>\n",
       "      <td>574.0</td>\n",
       "      <td>574.0</td>\n",
       "      <td>546.0</td>\n",
       "      <td>...</td>\n",
       "      <td>28.0</td>\n",
       "      <td>22.0</td>\n",
       "      <td>22.0</td>\n",
       "      <td>172.0</td>\n",
       "      <td>146.0</td>\n",
       "      <td>91.0</td>\n",
       "      <td>73.0</td>\n",
       "      <td>26.0</td>\n",
       "      <td>2.0</td>\n",
       "      <td>5.0</td>\n",
       "    </tr>\n",
       "    <tr>\n",
       "      <th>1400000US36001000403</th>\n",
       "      <td>3756.0</td>\n",
       "      <td>2747.0</td>\n",
       "      <td>78.0</td>\n",
       "      <td>0.0</td>\n",
       "      <td>1009.0</td>\n",
       "      <td>2747.0</td>\n",
       "      <td>1875.0</td>\n",
       "      <td>1268.0</td>\n",
       "      <td>1268.0</td>\n",
       "      <td>1202.0</td>\n",
       "      <td>...</td>\n",
       "      <td>43.0</td>\n",
       "      <td>21.0</td>\n",
       "      <td>0.0</td>\n",
       "      <td>483.0</td>\n",
       "      <td>483.0</td>\n",
       "      <td>287.0</td>\n",
       "      <td>262.0</td>\n",
       "      <td>0.0</td>\n",
       "      <td>2.4</td>\n",
       "      <td>2.8</td>\n",
       "    </tr>\n",
       "  </tbody>\n",
       "</table>\n",
       "<p>5 rows × 115 columns</p>\n",
       "</div>"
      ],
      "text/plain": [
       "                      Estimate!!EMPLOYMENT STATUS!!Population 16 years and over  \\\n",
       "id                                                                                \n",
       "1400000US36001000100                                             1505.0           \n",
       "1400000US36001000200                                             3748.0           \n",
       "1400000US36001000300                                             4816.0           \n",
       "1400000US36001000401                                             2305.0           \n",
       "1400000US36001000403                                             3756.0           \n",
       "\n",
       "                      Estimate!!EMPLOYMENT STATUS!!Population 16 years and over!!In labor force  \\\n",
       "id                                                                                                \n",
       "1400000US36001000100                                              930.0                           \n",
       "1400000US36001000200                                             2519.0                           \n",
       "1400000US36001000300                                             2894.0                           \n",
       "1400000US36001000401                                             1000.0                           \n",
       "1400000US36001000403                                             2747.0                           \n",
       "\n",
       "                      Estimate!!EMPLOYMENT STATUS!!Population 16 years and over!!In labor force!!Civilian labor force!!Unemployed  \\\n",
       "id                                                                                                                                  \n",
       "1400000US36001000100                                              113.0                                                             \n",
       "1400000US36001000200                                              242.0                                                             \n",
       "1400000US36001000300                                              296.0                                                             \n",
       "1400000US36001000401                                               50.0                                                             \n",
       "1400000US36001000403                                               78.0                                                             \n",
       "\n",
       "                      Estimate!!EMPLOYMENT STATUS!!Population 16 years and over!!In labor force!!Armed Forces  \\\n",
       "id                                                                                                              \n",
       "1400000US36001000100                                                6.0                                         \n",
       "1400000US36001000200                                                0.0                                         \n",
       "1400000US36001000300                                                0.0                                         \n",
       "1400000US36001000401                                                0.0                                         \n",
       "1400000US36001000403                                                0.0                                         \n",
       "\n",
       "                      Estimate!!EMPLOYMENT STATUS!!Population 16 years and over!!Not in labor force  \\\n",
       "id                                                                                                    \n",
       "1400000US36001000100                                              575.0                               \n",
       "1400000US36001000200                                             1229.0                               \n",
       "1400000US36001000300                                             1922.0                               \n",
       "1400000US36001000401                                             1305.0                               \n",
       "1400000US36001000403                                             1009.0                               \n",
       "\n",
       "                      Estimate!!EMPLOYMENT STATUS!!Civilian labor force  \\\n",
       "id                                                                        \n",
       "1400000US36001000100                                              924.0   \n",
       "1400000US36001000200                                             2519.0   \n",
       "1400000US36001000300                                             2894.0   \n",
       "1400000US36001000401                                             1000.0   \n",
       "1400000US36001000403                                             2747.0   \n",
       "\n",
       "                      Estimate!!EMPLOYMENT STATUS!!Females 16 years and over  \\\n",
       "id                                                                             \n",
       "1400000US36001000100                                              816.0        \n",
       "1400000US36001000200                                             2051.0        \n",
       "1400000US36001000300                                             2536.0        \n",
       "1400000US36001000401                                             1434.0        \n",
       "1400000US36001000403                                             1875.0        \n",
       "\n",
       "                      Estimate!!EMPLOYMENT STATUS!!Females 16 years and over!!In labor force  \\\n",
       "id                                                                                             \n",
       "1400000US36001000100                                              521.0                        \n",
       "1400000US36001000200                                             1549.0                        \n",
       "1400000US36001000300                                             1405.0                        \n",
       "1400000US36001000401                                              574.0                        \n",
       "1400000US36001000403                                             1268.0                        \n",
       "\n",
       "                      Estimate!!EMPLOYMENT STATUS!!Females 16 years and over!!In labor force!!Civilian labor force  \\\n",
       "id                                                                                                                   \n",
       "1400000US36001000100                                              521.0                                              \n",
       "1400000US36001000200                                             1549.0                                              \n",
       "1400000US36001000300                                             1405.0                                              \n",
       "1400000US36001000401                                              574.0                                              \n",
       "1400000US36001000403                                             1268.0                                              \n",
       "\n",
       "                      Estimate!!EMPLOYMENT STATUS!!Females 16 years and over!!In labor force!!Civilian labor force!!Employed  \\\n",
       "id                                                                                                                             \n",
       "1400000US36001000100                                              432.0                                                        \n",
       "1400000US36001000200                                             1421.0                                                        \n",
       "1400000US36001000300                                             1361.0                                                        \n",
       "1400000US36001000401                                              546.0                                                        \n",
       "1400000US36001000403                                             1202.0                                                        \n",
       "\n",
       "                      ...  \\\n",
       "id                    ...   \n",
       "1400000US36001000100  ...   \n",
       "1400000US36001000200  ...   \n",
       "1400000US36001000300  ...   \n",
       "1400000US36001000401  ...   \n",
       "1400000US36001000403  ...   \n",
       "\n",
       "                      Estimate!!HEALTH INSURANCE COVERAGE!!Civilian noninstitutionalized population!!Civilian noninstitutionalized population 19 to 64 years!!In labor force!!Unemployed!!With health insurance coverage!!With private health insurance  \\\n",
       "id                                                                                                                                                                                                                                                        \n",
       "1400000US36001000100                                               13.0                                                                                                                                                                                   \n",
       "1400000US36001000200                                              104.0                                                                                                                                                                                   \n",
       "1400000US36001000300                                               32.0                                                                                                                                                                                   \n",
       "1400000US36001000401                                               28.0                                                                                                                                                                                   \n",
       "1400000US36001000403                                               43.0                                                                                                                                                                                   \n",
       "\n",
       "                      Estimate!!HEALTH INSURANCE COVERAGE!!Civilian noninstitutionalized population!!Civilian noninstitutionalized population 19 to 64 years!!In labor force!!Unemployed!!With health insurance coverage!!With public coverage  \\\n",
       "id                                                                                                                                                                                                                                               \n",
       "1400000US36001000100                                               62.0                                                                                                                                                                          \n",
       "1400000US36001000200                                               81.0                                                                                                                                                                          \n",
       "1400000US36001000300                                              156.0                                                                                                                                                                          \n",
       "1400000US36001000401                                               22.0                                                                                                                                                                          \n",
       "1400000US36001000403                                               21.0                                                                                                                                                                          \n",
       "\n",
       "                      Estimate!!HEALTH INSURANCE COVERAGE!!Civilian noninstitutionalized population!!Civilian noninstitutionalized population 19 to 64 years!!In labor force!!Unemployed!!No health insurance coverage  \\\n",
       "id                                                                                                                                                                                                                       \n",
       "1400000US36001000100                                                0.0                                                                                                                                                  \n",
       "1400000US36001000200                                               54.0                                                                                                                                                  \n",
       "1400000US36001000300                                               46.0                                                                                                                                                  \n",
       "1400000US36001000401                                               22.0                                                                                                                                                  \n",
       "1400000US36001000403                                                0.0                                                                                                                                                  \n",
       "\n",
       "                      Estimate!!HEALTH INSURANCE COVERAGE!!Civilian noninstitutionalized population!!Civilian noninstitutionalized population 19 to 64 years!!Not in labor force  \\\n",
       "id                                                                                                                                                                                 \n",
       "1400000US36001000100                                              338.0                                                                                                            \n",
       "1400000US36001000200                                              900.0                                                                                                            \n",
       "1400000US36001000300                                              998.0                                                                                                            \n",
       "1400000US36001000401                                              172.0                                                                                                            \n",
       "1400000US36001000403                                              483.0                                                                                                            \n",
       "\n",
       "                      Estimate!!HEALTH INSURANCE COVERAGE!!Civilian noninstitutionalized population!!Civilian noninstitutionalized population 19 to 64 years!!Not in labor force!!With health insurance coverage  \\\n",
       "id                                                                                                                                                                                                                 \n",
       "1400000US36001000100                                              300.0                                                                                                                                            \n",
       "1400000US36001000200                                              658.0                                                                                                                                            \n",
       "1400000US36001000300                                              803.0                                                                                                                                            \n",
       "1400000US36001000401                                              146.0                                                                                                                                            \n",
       "1400000US36001000403                                              483.0                                                                                                                                            \n",
       "\n",
       "                      Estimate!!HEALTH INSURANCE COVERAGE!!Civilian noninstitutionalized population!!Civilian noninstitutionalized population 19 to 64 years!!Not in labor force!!With health insurance coverage!!With private health insurance  \\\n",
       "id                                                                                                                                                                                                                                                \n",
       "1400000US36001000100                                               75.0                                                                                                                                                                           \n",
       "1400000US36001000200                                               88.0                                                                                                                                                                           \n",
       "1400000US36001000300                                              333.0                                                                                                                                                                           \n",
       "1400000US36001000401                                               91.0                                                                                                                                                                           \n",
       "1400000US36001000403                                              287.0                                                                                                                                                                           \n",
       "\n",
       "                      Estimate!!HEALTH INSURANCE COVERAGE!!Civilian noninstitutionalized population!!Civilian noninstitutionalized population 19 to 64 years!!Not in labor force!!With health insurance coverage!!With public coverage  \\\n",
       "id                                                                                                                                                                                                                                       \n",
       "1400000US36001000100                                              255.0                                                                                                                                                                  \n",
       "1400000US36001000200                                              587.0                                                                                                                                                                  \n",
       "1400000US36001000300                                              526.0                                                                                                                                                                  \n",
       "1400000US36001000401                                               73.0                                                                                                                                                                  \n",
       "1400000US36001000403                                              262.0                                                                                                                                                                  \n",
       "\n",
       "                      Estimate!!HEALTH INSURANCE COVERAGE!!Civilian noninstitutionalized population!!Civilian noninstitutionalized population 19 to 64 years!!Not in labor force!!No health insurance coverage  \\\n",
       "id                                                                                                                                                                                                               \n",
       "1400000US36001000100                                               38.0                                                                                                                                          \n",
       "1400000US36001000200                                              242.0                                                                                                                                          \n",
       "1400000US36001000300                                              195.0                                                                                                                                          \n",
       "1400000US36001000401                                               26.0                                                                                                                                          \n",
       "1400000US36001000403                                                0.0                                                                                                                                          \n",
       "\n",
       "                      Percent Estimate!!PERCENTAGE OF FAMILIES AND PEOPLE WHOSE INCOME IN THE PAST 12 MONTHS IS BELOW THE POVERTY LEVEL!!All families  \\\n",
       "id                                                                                                                                                      \n",
       "1400000US36001000100                                               24.2                                                                                 \n",
       "1400000US36001000200                                               34.3                                                                                 \n",
       "1400000US36001000300                                               21.7                                                                                 \n",
       "1400000US36001000401                                                2.0                                                                                 \n",
       "1400000US36001000403                                                2.4                                                                                 \n",
       "\n",
       "                      Percent Estimate!!EMPLOYMENT STATUS!!Civilian labor force!!Unemployment Rate  \n",
       "id                                                                                                  \n",
       "1400000US36001000100                                               12.2                             \n",
       "1400000US36001000200                                                9.6                             \n",
       "1400000US36001000300                                               10.2                             \n",
       "1400000US36001000401                                                5.0                             \n",
       "1400000US36001000403                                                2.8                             \n",
       "\n",
       "[5 rows x 115 columns]"
      ]
     },
     "execution_count": 4,
     "metadata": {},
     "output_type": "execute_result"
    }
   ],
   "source": [
    "df=pd.read_csv('imputedData2018.csv')\n",
    "df=df.set_index('id')\n",
    "df.head()"
   ]
  },
  {
   "cell_type": "code",
   "execution_count": 16,
   "metadata": {},
   "outputs": [],
   "source": [
    "mean=np.mean(df[\"Percent Estimate!!PERCENTAGE OF FAMILIES AND PEOPLE WHOSE INCOME IN THE PAST 12 MONTHS IS BELOW THE POVERTY LEVEL!!All families\"])\n",
    "l=list()\n",
    "for i in df[\"Percent Estimate!!PERCENTAGE OF FAMILIES AND PEOPLE WHOSE INCOME IN THE PAST 12 MONTHS IS BELOW THE POVERTY LEVEL!!All families\"]:\n",
    "    if(i>=mean):\n",
    "        l.append(0)\n",
    "    else:\n",
    "        l.append(1)  "
   ]
  },
  {
   "cell_type": "code",
   "execution_count": 17,
   "metadata": {},
   "outputs": [
    {
     "data": {
      "text/plain": [
       "1    3123\n",
       "0    1728\n",
       "Name: poverty, dtype: int64"
      ]
     },
     "execution_count": 17,
     "metadata": {},
     "output_type": "execute_result"
    }
   ],
   "source": [
    "df[\"poverty\"]=l\n",
    "df[\"poverty\"].value_counts()"
   ]
  },
  {
   "cell_type": "code",
   "execution_count": 35,
   "metadata": {},
   "outputs": [],
   "source": [
    "a=[\"Percent Estimate!!PERCENTAGE OF FAMILIES AND PEOPLE WHOSE INCOME IN THE PAST 12 MONTHS IS BELOW THE POVERTY LEVEL!!All families\",\"poverty\"]"
   ]
  },
  {
   "cell_type": "code",
   "execution_count": 36,
   "metadata": {},
   "outputs": [],
   "source": [
    "X=df.drop(a,axis=1)\n",
    "Y=df[['poverty']]\n",
    "X_train, X_test, y_train, y_test = train_test_split(X, Y, test_size=0.20, random_state=0)"
   ]
  },
  {
   "cell_type": "code",
   "execution_count": 37,
   "metadata": {},
   "outputs": [],
   "source": [
    "scaler = StandardScaler()\n",
    "# Fit on training set only.\n",
    "scaler.fit(X_train)\n",
    "# Apply transform to both the training set and the test set.\n",
    "X_train = scaler.transform(X_train)\n",
    "X_test = scaler.transform(X_test)"
   ]
  },
  {
   "cell_type": "code",
   "execution_count": 38,
   "metadata": {},
   "outputs": [],
   "source": [
    "pca = PCA(.95)"
   ]
  },
  {
   "cell_type": "code",
   "execution_count": 39,
   "metadata": {},
   "outputs": [],
   "source": [
    "pca.fit(X_train)\n",
    "X_train = pca.transform(X_train)\n",
    "X_test = pca.transform(X_test)"
   ]
  },
  {
   "cell_type": "code",
   "execution_count": 40,
   "metadata": {},
   "outputs": [
    {
     "data": {
      "text/plain": [
       "(3880, 39)"
      ]
     },
     "execution_count": 40,
     "metadata": {},
     "output_type": "execute_result"
    }
   ],
   "source": [
    "X_train.shape"
   ]
  },
  {
   "cell_type": "code",
   "execution_count": 41,
   "metadata": {},
   "outputs": [
    {
     "name": "stderr",
     "output_type": "stream",
     "text": [
      "/home/arpit/anaconda3/lib/python3.7/site-packages/sklearn/utils/validation.py:760: DataConversionWarning: A column-vector y was passed when a 1d array was expected. Please change the shape of y to (n_samples, ), for example using ravel().\n",
      "  y = column_or_1d(y, warn=True)\n"
     ]
    },
    {
     "data": {
      "text/plain": [
       "LogisticRegression(C=1.0, class_weight=None, dual=False, fit_intercept=True,\n",
       "                   intercept_scaling=1, l1_ratio=None, max_iter=100,\n",
       "                   multi_class='auto', n_jobs=None, penalty='l2',\n",
       "                   random_state=None, solver='lbfgs', tol=0.0001, verbose=0,\n",
       "                   warm_start=False)"
      ]
     },
     "execution_count": 41,
     "metadata": {},
     "output_type": "execute_result"
    }
   ],
   "source": [
    "regression_model = LogisticRegression()\n",
    "\n",
    "# pass through the X_train & y_train data set\n",
    "regression_model.fit(X_train, y_train)"
   ]
  },
  {
   "cell_type": "code",
   "execution_count": 42,
   "metadata": {},
   "outputs": [
    {
     "name": "stdout",
     "output_type": "stream",
     "text": [
      "              precision    recall  f1-score   support\n",
      "\n",
      "           0       0.90      0.85      0.87       364\n",
      "           1       0.91      0.94      0.93       607\n",
      "\n",
      "    accuracy                           0.91       971\n",
      "   macro avg       0.91      0.90      0.90       971\n",
      "weighted avg       0.91      0.91      0.91       971\n",
      "\n"
     ]
    }
   ],
   "source": [
    "preds=regression_model.predict(X_test)\n",
    "print(classification_report(y_test,preds))"
   ]
  },
  {
   "cell_type": "code",
   "execution_count": 46,
   "metadata": {},
   "outputs": [
    {
     "name": "stderr",
     "output_type": "stream",
     "text": [
      "/home/arpit/anaconda3/lib/python3.7/site-packages/ipykernel_launcher.py:5: DataConversionWarning: A column-vector y was passed when a 1d array was expected. Please change the shape of y to (n_samples,), for example using ravel().\n",
      "  \"\"\"\n"
     ]
    },
    {
     "data": {
      "text/plain": [
       "RandomForestClassifier(bootstrap=True, ccp_alpha=0.0, class_weight=None,\n",
       "                       criterion='gini', max_depth=None, max_features='auto',\n",
       "                       max_leaf_nodes=None, max_samples=None,\n",
       "                       min_impurity_decrease=0.0, min_impurity_split=None,\n",
       "                       min_samples_leaf=1, min_samples_split=2,\n",
       "                       min_weight_fraction_leaf=0.0, n_estimators=1000,\n",
       "                       n_jobs=None, oob_score=False, random_state=None,\n",
       "                       verbose=0, warm_start=False)"
      ]
     },
     "execution_count": 46,
     "metadata": {},
     "output_type": "execute_result"
    }
   ],
   "source": [
    "from sklearn.ensemble import RandomForestClassifier\n",
    "\n",
    "rfc = RandomForestClassifier(n_estimators = 1000)\n",
    "\n",
    "rfc.fit(X_train,y_train)"
   ]
  },
  {
   "cell_type": "code",
   "execution_count": 47,
   "metadata": {},
   "outputs": [
    {
     "name": "stdout",
     "output_type": "stream",
     "text": [
      "              precision    recall  f1-score   support\n",
      "\n",
      "           0       0.90      0.78      0.83       364\n",
      "           1       0.88      0.95      0.91       607\n",
      "\n",
      "    accuracy                           0.88       971\n",
      "   macro avg       0.89      0.86      0.87       971\n",
      "weighted avg       0.88      0.88      0.88       971\n",
      "\n"
     ]
    }
   ],
   "source": [
    "preds=rfc.predict(X_test)\n",
    "print(classification_report(y_test,preds))"
   ]
  },
  {
   "cell_type": "code",
   "execution_count": 51,
   "metadata": {},
   "outputs": [
    {
     "name": "stderr",
     "output_type": "stream",
     "text": [
      "/home/arpit/anaconda3/lib/python3.7/site-packages/sklearn/utils/validation.py:760: DataConversionWarning: A column-vector y was passed when a 1d array was expected. Please change the shape of y to (n_samples, ), for example using ravel().\n",
      "  y = column_or_1d(y, warn=True)\n"
     ]
    },
    {
     "data": {
      "text/plain": [
       "SVC(C=1.0, break_ties=False, cache_size=200, class_weight=None, coef0=0.0,\n",
       "    decision_function_shape='ovr', degree=3, gamma='scale', kernel='linear',\n",
       "    max_iter=-1, probability=False, random_state=None, shrinking=True,\n",
       "    tol=0.001, verbose=False)"
      ]
     },
     "execution_count": 51,
     "metadata": {},
     "output_type": "execute_result"
    }
   ],
   "source": [
    "from sklearn.svm import SVC\n",
    "svclassifier = SVC(kernel='linear')\n",
    "svclassifier.fit(X_train, y_train)"
   ]
  },
  {
   "cell_type": "code",
   "execution_count": 52,
   "metadata": {},
   "outputs": [
    {
     "name": "stdout",
     "output_type": "stream",
     "text": [
      "              precision    recall  f1-score   support\n",
      "\n",
      "           0       0.90      0.85      0.87       364\n",
      "           1       0.91      0.94      0.93       607\n",
      "\n",
      "    accuracy                           0.91       971\n",
      "   macro avg       0.90      0.90      0.90       971\n",
      "weighted avg       0.91      0.91      0.91       971\n",
      "\n"
     ]
    }
   ],
   "source": [
    "preds=svclassifier.predict(X_test)\n",
    "print(classification_report(y_test,preds))"
   ]
  },
  {
   "cell_type": "code",
   "execution_count": null,
   "metadata": {},
   "outputs": [],
   "source": []
  },
  {
   "cell_type": "code",
   "execution_count": null,
   "metadata": {},
   "outputs": [],
   "source": []
  }
 ],
 "metadata": {
  "kernelspec": {
   "display_name": "Python 3",
   "language": "python",
   "name": "python3"
  },
  "language_info": {
   "codemirror_mode": {
    "name": "ipython",
    "version": 3
   },
   "file_extension": ".py",
   "mimetype": "text/x-python",
   "name": "python",
   "nbconvert_exporter": "python",
   "pygments_lexer": "ipython3",
   "version": "3.7.6"
  }
 },
 "nbformat": 4,
 "nbformat_minor": 4
}
